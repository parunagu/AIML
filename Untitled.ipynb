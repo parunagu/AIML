{
 "cells": [
  {
   "cell_type": "code",
   "execution_count": null,
   "id": "6a97eff8",
   "metadata": {},
   "outputs": [],
   "source": [
    "# univanient\n",
    "import pandas as pd\n",
    "import numpy as np\n",
    "import matplotlib.pyplot as plt\n",
    "import seaborn as sns\n",
    "\n",
    "data=pd.read_csv(\"C:/Users/SPTINT-08/Desktop/iris/Employee_dataset (1).csv\")\n",
    "data\n",
    "\n",
    "data.head(10)\n",
    "data.info()\n",
    "data.shape\n",
    "data.describe\n",
    "data['age'].hist\n",
    "\n",
    "sns.countplot(x='gender_short',data=data)\n",
    "data['Pclass'].value_counts()\n",
    "\n",
    "sns.boxplot(x='age',data=data)\n",
    "data['gender_short'].plot(kind='bar')\n",
    "\n",
    "sns.countplot(x='gender_short',data=data)\n",
    "data['age'].value_counts().plot(kind='bar')"
   ]
  },
  {
   "cell_type": "code",
   "execution_count": null,
   "id": "5b7d8e33",
   "metadata": {},
   "outputs": [],
   "source": []
  },
  {
   "cell_type": "code",
   "execution_count": null,
   "id": "75705db4",
   "metadata": {},
   "outputs": [],
   "source": []
  },
  {
   "cell_type": "code",
   "execution_count": null,
   "id": "7186c037",
   "metadata": {},
   "outputs": [],
   "source": []
  },
  {
   "cell_type": "code",
   "execution_count": null,
   "id": "83f5a004",
   "metadata": {},
   "outputs": [],
   "source": []
  }
 ],
 "metadata": {
  "kernelspec": {
   "display_name": "Python 3 (ipykernel)",
   "language": "python",
   "name": "python3"
  },
  "language_info": {
   "codemirror_mode": {
    "name": "ipython",
    "version": 3
   },
   "file_extension": ".py",
   "mimetype": "text/x-python",
   "name": "python",
   "nbconvert_exporter": "python",
   "pygments_lexer": "ipython3",
   "version": "3.11.4"
  }
 },
 "nbformat": 4,
 "nbformat_minor": 5
}
